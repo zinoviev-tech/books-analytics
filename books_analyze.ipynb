{
  "nbformat": 4,
  "nbformat_minor": 0,
  "metadata": {
    "colab": {
      "provenance": [],
      "collapsed_sections": [
        "7YfDs8rFrOMq",
        "N9-xTjJvr7cP",
        "XPaLd0sUxTax",
        "4MJFAl0zFwSQ",
        "EXs9I6nBDDTJ"
      ]
    },
    "kernelspec": {
      "name": "python3",
      "display_name": "Python 3"
    },
    "language_info": {
      "name": "python"
    }
  },
  "cells": [
    {
      "cell_type": "markdown",
      "source": [
        "\n",
        "# Собираю и анализирую свои прочитанные книги\n",
        "---\n",
        "\n"
      ],
      "metadata": {
        "id": "WJ45ZAH3q7vg"
      }
    },
    {
      "cell_type": "code",
      "execution_count": 336,
      "metadata": {
        "id": "Rw9pQAnZkzjO"
      },
      "outputs": [],
      "source": [
        "import requests\n",
        "import re\n",
        "from tqdm import tqdm\n",
        "import pandas as pd"
      ]
    },
    {
      "cell_type": "markdown",
      "source": [
        "## Получаю ключ API от Google Books и добавляю его сюда через Google диск"
      ],
      "metadata": {
        "id": "7YfDs8rFrOMq"
      }
    },
    {
      "cell_type": "code",
      "source": [
        "from google.colab import drive\n",
        "drive.mount('/content/drive')"
      ],
      "metadata": {
        "colab": {
          "base_uri": "https://localhost:8080/"
        },
        "id": "c-2twrVRojtT",
        "outputId": "ea29bad4-7d01-4359-8117-044b2867e2e7"
      },
      "execution_count": 1,
      "outputs": [
        {
          "output_type": "stream",
          "name": "stdout",
          "text": [
            "Mounted at /content/drive\n"
          ]
        }
      ]
    },
    {
      "cell_type": "code",
      "source": [
        "with open('/content/drive/MyDrive/Colab Notebooks/book_analyze/key.txt') as f:\n",
        "  key = f.read()"
      ],
      "metadata": {
        "id": "c5j2qs6uo43-"
      },
      "execution_count": 327,
      "outputs": []
    },
    {
      "cell_type": "markdown",
      "source": [
        "## Создаю функцию для получения первого результата из поисковой выдачи по запросу в Google Boooks API"
      ],
      "metadata": {
        "id": "N9-xTjJvr7cP"
      }
    },
    {
      "cell_type": "code",
      "source": [
        "def find_volume(querry):\n",
        "\n",
        "    url = 'https://www.googleapis.com/books/v1/volumes?q=' + querry + '&key=' + key\n",
        "\n",
        "    response = requests.get(url)\n",
        "\n",
        "    if response.json().get('totalItems') != 0:\n",
        "      final = response.json().get('items')\n",
        "      if final != None:\n",
        "        final = final[0]\n",
        "    else: final = {\n",
        "        'id': None,\n",
        "        'volumeInfo': {\n",
        "\n",
        "            'title': None,\n",
        "            'authors': None,\n",
        "            'publisher': None,\n",
        "            'publishedDate': None,\n",
        "            'description': None,\n",
        "            'pageCount': None,\n",
        "            'imageLinks': None,\n",
        "            'language': None,\n",
        "\n",
        "          }\n",
        "        }\n",
        "\n",
        "    return final"
      ],
      "metadata": {
        "id": "LGlZWM86so8y"
      },
      "execution_count": 331,
      "outputs": []
    },
    {
      "cell_type": "markdown",
      "source": [
        "## Создаю функцию для внесения json ответа в таблицу — вношу **id**, (проваливаюсь в items) **title, authors, publisher, publishedDate, description, pageCount, imageLinks, language**"
      ],
      "metadata": {
        "id": "XPaLd0sUxTax"
      }
    },
    {
      "cell_type": "code",
      "source": [
        "def append_volume(found_volume):\n",
        "\n",
        "  if found_volume != None:\n",
        "    my_books_json['id'].append(found_volume.get('id'))\n",
        "\n",
        "    if found_volume.get('volumeInfo') != None:\n",
        "      my_books_json['title'].append(found_volume.get('volumeInfo').get('title'))\n",
        "    else: my_books_json['title'].append(found_volume.get('volumeInfo'))\n",
        "\n",
        "    if found_volume.get('volumeInfo') != None:\n",
        "      my_books_json['authors'].append(found_volume.get('volumeInfo').get('authors'))\n",
        "    else: my_books_json['authors'].append(found_volume.get('volumeInfo'))\n",
        "\n",
        "    if found_volume.get('volumeInfo') != None:\n",
        "      my_books_json['publisher'].append(found_volume.get('volumeInfo').get('publisher'))\n",
        "    else: my_books_json['publisher'].append(found_volume.get('volumeInfo'))\n",
        "\n",
        "    if found_volume.get('volumeInfo') != None:\n",
        "      my_books_json['publishedDate'].append(found_volume.get('volumeInfo').get('publishedDate'))\n",
        "    else: my_books_json['publishedDate'].append(found_volume.get('volumeInfo'))\n",
        "\n",
        "    if found_volume.get('volumeInfo') != None:\n",
        "      my_books_json['description'].append(found_volume.get('volumeInfo').get('description'))\n",
        "    else: my_books_json['description'].append(found_volume.get('volumeInfo'))\n",
        "\n",
        "    if found_volume.get('volumeInfo') != None:\n",
        "      my_books_json['pageCount'].append(found_volume.get('volumeInfo').get('pageCount'))\n",
        "    else: my_books_json['pageCount'].append(found_volume.get('volumeInfo'))\n",
        "\n",
        "    if found_volume.get('volumeInfo') != None:\n",
        "      my_books_json['imageLinks'].append(found_volume.get('volumeInfo').get('imageLinks'))\n",
        "    else: my_books_json['imageLinks'].append(found_volume.get('volumeInfo'))\n",
        "\n",
        "    if found_volume.get('volumeInfo') != None:\n",
        "      my_books_json['language'].append(found_volume.get('volumeInfo').get('language'))\n",
        "    else: my_books_json['language'].append(found_volume.get('volumeInfo').get('language'))\n",
        "  else:\n",
        "\n",
        "    my_books_json['id'].append(None)\n",
        "    my_books_json['title'].append(None)\n",
        "    my_books_json['authors'].append(None)\n",
        "    my_books_json['publisher'].append(None)\n",
        "    my_books_json['publishedDate'].append(None)\n",
        "    my_books_json['description'].append(None)\n",
        "    my_books_json['pageCount'].append(None)\n",
        "    my_books_json['imageLinks'].append(None)\n",
        "    my_books_json['language'].append(None)\n",
        "\n",
        "  return 0\n"
      ],
      "metadata": {
        "id": "Oh76EeHxxHPW"
      },
      "execution_count": 318,
      "outputs": []
    },
    {
      "cell_type": "markdown",
      "source": [
        "## Достаю из файла и чищу названия своих любимых книг"
      ],
      "metadata": {
        "id": "4MJFAl0zFwSQ"
      }
    },
    {
      "cell_type": "code",
      "source": [
        "with open('/content/drive/MyDrive/Colab Notebooks/book_analyze/books.txt') as f:\n",
        "  books = f.read()"
      ],
      "metadata": {
        "id": "h0cAV6INF9Fp"
      },
      "execution_count": 225,
      "outputs": []
    },
    {
      "cell_type": "code",
      "source": [
        "books = re.sub('\\d,\\d\\n*.*\\n*.*\\)', ' ', books)"
      ],
      "metadata": {
        "id": "R2bnY8T1Si2k"
      },
      "execution_count": 226,
      "outputs": []
    },
    {
      "cell_type": "code",
      "source": [
        "books = books.split('\\n \\n')"
      ],
      "metadata": {
        "id": "MLcZJ3A9-8ah"
      },
      "execution_count": 227,
      "outputs": []
    },
    {
      "cell_type": "code",
      "source": [
        "books_clean = []\n",
        "for item in books:\n",
        "  books_clean.append(item.replace('\\n', ' '))"
      ],
      "metadata": {
        "id": "xkOTmP_v_v7y"
      },
      "execution_count": 228,
      "outputs": []
    },
    {
      "cell_type": "markdown",
      "source": [
        "## Создаю **json** своих любимых кинг для перевода в **Pandas DataFrame**"
      ],
      "metadata": {
        "id": "EXs9I6nBDDTJ"
      }
    },
    {
      "cell_type": "code",
      "source": [
        "my_books_json = {\n",
        "    'id':  [],\n",
        "    'title': [],\n",
        "    'authors': [],\n",
        "    'publisher': [],\n",
        "    'publishedDate': [],\n",
        "    'description': [],\n",
        "    'pageCount': [],\n",
        "    'imageLinks': [],\n",
        "    'language': []\n",
        "}"
      ],
      "metadata": {
        "id": "xBLtocJVDCpo"
      },
      "execution_count": 332,
      "outputs": []
    },
    {
      "cell_type": "markdown",
      "source": [
        "## Соединяю детали функции для поиска и внесения с очищенными запросами"
      ],
      "metadata": {
        "id": "CRr38kIjDF92"
      }
    },
    {
      "cell_type": "code",
      "source": [
        "for book in tqdm(books_clean):\n",
        "  found_volume = find_volume(book)\n",
        "  append_volume(found_volume)"
      ],
      "metadata": {
        "colab": {
          "base_uri": "https://localhost:8080/"
        },
        "id": "S70tna1eDLLZ",
        "outputId": "8b88712c-60c1-4a28-aad3-e69e3cc37405"
      },
      "execution_count": 333,
      "outputs": [
        {
          "output_type": "stream",
          "name": "stderr",
          "text": [
            "100%|██████████| 86/86 [00:33<00:00,  2.54it/s]\n"
          ]
        }
      ]
    },
    {
      "cell_type": "code",
      "source": [
        "df = pd.DataFrame(my_books_json)"
      ],
      "metadata": {
        "id": "0R5eBX8eh3_y"
      },
      "execution_count": 337,
      "outputs": []
    },
    {
      "cell_type": "code",
      "source": [
        "df.head()"
      ],
      "metadata": {
        "colab": {
          "base_uri": "https://localhost:8080/",
          "height": 466
        },
        "id": "FMr5DYJpiAzE",
        "outputId": "6b94531c-2247-470e-807a-9efb86527089"
      },
      "execution_count": 338,
      "outputs": [
        {
          "output_type": "execute_result",
          "data": {
            "text/plain": [
              "             id                                              title  \\\n",
              "0  4wooDwAAQBAJ  Как устроиться на работу своей мечты: от собес...   \n",
              "1  Lsk-dirqTM8C            Как чашка за чашкой строилась Starbucks   \n",
              "2  yi0_DwAAQBAJ                                О стойкости мудреца   \n",
              "3  dqB5DwAAQBAJ          Сила воли. Возьми свою жизнь под контроль   \n",
              "4  Qe4WEAAAQBAJ                                     Никаких правил   \n",
              "\n",
              "                           authors                     publisher  \\\n",
              "0   [Якуба Владимир Александрович]  \"Издательский дом \"\"Питер\"\"\"   \n",
              "1  [Дори Джонс Йенг, Говард Шульц]              Альпина Паблишер   \n",
              "2  [Марк Аврелий, Эпиктет, Сенека]                 Рипол Классик   \n",
              "3     [Джон Тирни, Рой Баумайстер]                        Litres   \n",
              "4       [Рид Хастингс, Эрин Мейер]       \"Манн, Иванов и Фербер\"   \n",
              "\n",
              "  publishedDate                                        description  pageCount  \\\n",
              "0    2017-05-04  Вы знаете, сколько времени уходит на просмотр ...      160.0   \n",
              "1          2012  Говард Шульц стал генеральным директором Starb...      288.0   \n",
              "2    2017-09-15  Стоицизм - поистине уникальная философская шко...        NaN   \n",
              "3    2018-11-13  Хочешь быть счастливым – тренируй силу воли. И...      343.0   \n",
              "4          None  Книга о корпоративной культуре Netflix, котора...      386.0   \n",
              "\n",
              "                                          imageLinks language  \n",
              "0  {'smallThumbnail': 'http://books.google.com/bo...       ru  \n",
              "1  {'smallThumbnail': 'http://books.google.com/bo...       ru  \n",
              "2  {'smallThumbnail': 'http://books.google.com/bo...       ru  \n",
              "3  {'smallThumbnail': 'http://books.google.com/bo...       ru  \n",
              "4  {'smallThumbnail': 'http://books.google.com/bo...       ru  "
            ],
            "text/html": [
              "\n",
              "  <div id=\"df-74fefd74-734b-4fc2-97b9-68ae7e37b089\" class=\"colab-df-container\">\n",
              "    <div>\n",
              "<style scoped>\n",
              "    .dataframe tbody tr th:only-of-type {\n",
              "        vertical-align: middle;\n",
              "    }\n",
              "\n",
              "    .dataframe tbody tr th {\n",
              "        vertical-align: top;\n",
              "    }\n",
              "\n",
              "    .dataframe thead th {\n",
              "        text-align: right;\n",
              "    }\n",
              "</style>\n",
              "<table border=\"1\" class=\"dataframe\">\n",
              "  <thead>\n",
              "    <tr style=\"text-align: right;\">\n",
              "      <th></th>\n",
              "      <th>id</th>\n",
              "      <th>title</th>\n",
              "      <th>authors</th>\n",
              "      <th>publisher</th>\n",
              "      <th>publishedDate</th>\n",
              "      <th>description</th>\n",
              "      <th>pageCount</th>\n",
              "      <th>imageLinks</th>\n",
              "      <th>language</th>\n",
              "    </tr>\n",
              "  </thead>\n",
              "  <tbody>\n",
              "    <tr>\n",
              "      <th>0</th>\n",
              "      <td>4wooDwAAQBAJ</td>\n",
              "      <td>Как устроиться на работу своей мечты: от собес...</td>\n",
              "      <td>[Якуба Владимир Александрович]</td>\n",
              "      <td>\"Издательский дом \"\"Питер\"\"\"</td>\n",
              "      <td>2017-05-04</td>\n",
              "      <td>Вы знаете, сколько времени уходит на просмотр ...</td>\n",
              "      <td>160.0</td>\n",
              "      <td>{'smallThumbnail': 'http://books.google.com/bo...</td>\n",
              "      <td>ru</td>\n",
              "    </tr>\n",
              "    <tr>\n",
              "      <th>1</th>\n",
              "      <td>Lsk-dirqTM8C</td>\n",
              "      <td>Как чашка за чашкой строилась Starbucks</td>\n",
              "      <td>[Дори Джонс Йенг, Говард Шульц]</td>\n",
              "      <td>Альпина Паблишер</td>\n",
              "      <td>2012</td>\n",
              "      <td>Говард Шульц стал генеральным директором Starb...</td>\n",
              "      <td>288.0</td>\n",
              "      <td>{'smallThumbnail': 'http://books.google.com/bo...</td>\n",
              "      <td>ru</td>\n",
              "    </tr>\n",
              "    <tr>\n",
              "      <th>2</th>\n",
              "      <td>yi0_DwAAQBAJ</td>\n",
              "      <td>О стойкости мудреца</td>\n",
              "      <td>[Марк Аврелий, Эпиктет, Сенека]</td>\n",
              "      <td>Рипол Классик</td>\n",
              "      <td>2017-09-15</td>\n",
              "      <td>Стоицизм - поистине уникальная философская шко...</td>\n",
              "      <td>NaN</td>\n",
              "      <td>{'smallThumbnail': 'http://books.google.com/bo...</td>\n",
              "      <td>ru</td>\n",
              "    </tr>\n",
              "    <tr>\n",
              "      <th>3</th>\n",
              "      <td>dqB5DwAAQBAJ</td>\n",
              "      <td>Сила воли. Возьми свою жизнь под контроль</td>\n",
              "      <td>[Джон Тирни, Рой Баумайстер]</td>\n",
              "      <td>Litres</td>\n",
              "      <td>2018-11-13</td>\n",
              "      <td>Хочешь быть счастливым – тренируй силу воли. И...</td>\n",
              "      <td>343.0</td>\n",
              "      <td>{'smallThumbnail': 'http://books.google.com/bo...</td>\n",
              "      <td>ru</td>\n",
              "    </tr>\n",
              "    <tr>\n",
              "      <th>4</th>\n",
              "      <td>Qe4WEAAAQBAJ</td>\n",
              "      <td>Никаких правил</td>\n",
              "      <td>[Рид Хастингс, Эрин Мейер]</td>\n",
              "      <td>\"Манн, Иванов и Фербер\"</td>\n",
              "      <td>None</td>\n",
              "      <td>Книга о корпоративной культуре Netflix, котора...</td>\n",
              "      <td>386.0</td>\n",
              "      <td>{'smallThumbnail': 'http://books.google.com/bo...</td>\n",
              "      <td>ru</td>\n",
              "    </tr>\n",
              "  </tbody>\n",
              "</table>\n",
              "</div>\n",
              "    <div class=\"colab-df-buttons\">\n",
              "\n",
              "  <div class=\"colab-df-container\">\n",
              "    <button class=\"colab-df-convert\" onclick=\"convertToInteractive('df-74fefd74-734b-4fc2-97b9-68ae7e37b089')\"\n",
              "            title=\"Convert this dataframe to an interactive table.\"\n",
              "            style=\"display:none;\">\n",
              "\n",
              "  <svg xmlns=\"http://www.w3.org/2000/svg\" height=\"24px\" viewBox=\"0 -960 960 960\">\n",
              "    <path d=\"M120-120v-720h720v720H120Zm60-500h600v-160H180v160Zm220 220h160v-160H400v160Zm0 220h160v-160H400v160ZM180-400h160v-160H180v160Zm440 0h160v-160H620v160ZM180-180h160v-160H180v160Zm440 0h160v-160H620v160Z\"/>\n",
              "  </svg>\n",
              "    </button>\n",
              "\n",
              "  <style>\n",
              "    .colab-df-container {\n",
              "      display:flex;\n",
              "      gap: 12px;\n",
              "    }\n",
              "\n",
              "    .colab-df-convert {\n",
              "      background-color: #E8F0FE;\n",
              "      border: none;\n",
              "      border-radius: 50%;\n",
              "      cursor: pointer;\n",
              "      display: none;\n",
              "      fill: #1967D2;\n",
              "      height: 32px;\n",
              "      padding: 0 0 0 0;\n",
              "      width: 32px;\n",
              "    }\n",
              "\n",
              "    .colab-df-convert:hover {\n",
              "      background-color: #E2EBFA;\n",
              "      box-shadow: 0px 1px 2px rgba(60, 64, 67, 0.3), 0px 1px 3px 1px rgba(60, 64, 67, 0.15);\n",
              "      fill: #174EA6;\n",
              "    }\n",
              "\n",
              "    .colab-df-buttons div {\n",
              "      margin-bottom: 4px;\n",
              "    }\n",
              "\n",
              "    [theme=dark] .colab-df-convert {\n",
              "      background-color: #3B4455;\n",
              "      fill: #D2E3FC;\n",
              "    }\n",
              "\n",
              "    [theme=dark] .colab-df-convert:hover {\n",
              "      background-color: #434B5C;\n",
              "      box-shadow: 0px 1px 3px 1px rgba(0, 0, 0, 0.15);\n",
              "      filter: drop-shadow(0px 1px 2px rgba(0, 0, 0, 0.3));\n",
              "      fill: #FFFFFF;\n",
              "    }\n",
              "  </style>\n",
              "\n",
              "    <script>\n",
              "      const buttonEl =\n",
              "        document.querySelector('#df-74fefd74-734b-4fc2-97b9-68ae7e37b089 button.colab-df-convert');\n",
              "      buttonEl.style.display =\n",
              "        google.colab.kernel.accessAllowed ? 'block' : 'none';\n",
              "\n",
              "      async function convertToInteractive(key) {\n",
              "        const element = document.querySelector('#df-74fefd74-734b-4fc2-97b9-68ae7e37b089');\n",
              "        const dataTable =\n",
              "          await google.colab.kernel.invokeFunction('convertToInteractive',\n",
              "                                                    [key], {});\n",
              "        if (!dataTable) return;\n",
              "\n",
              "        const docLinkHtml = 'Like what you see? Visit the ' +\n",
              "          '<a target=\"_blank\" href=https://colab.research.google.com/notebooks/data_table.ipynb>data table notebook</a>'\n",
              "          + ' to learn more about interactive tables.';\n",
              "        element.innerHTML = '';\n",
              "        dataTable['output_type'] = 'display_data';\n",
              "        await google.colab.output.renderOutput(dataTable, element);\n",
              "        const docLink = document.createElement('div');\n",
              "        docLink.innerHTML = docLinkHtml;\n",
              "        element.appendChild(docLink);\n",
              "      }\n",
              "    </script>\n",
              "  </div>\n",
              "\n",
              "\n",
              "<div id=\"df-ceeebd2d-6083-4743-882e-a7bc42ec437a\">\n",
              "  <button class=\"colab-df-quickchart\" onclick=\"quickchart('df-ceeebd2d-6083-4743-882e-a7bc42ec437a')\"\n",
              "            title=\"Suggest charts\"\n",
              "            style=\"display:none;\">\n",
              "\n",
              "<svg xmlns=\"http://www.w3.org/2000/svg\" height=\"24px\"viewBox=\"0 0 24 24\"\n",
              "     width=\"24px\">\n",
              "    <g>\n",
              "        <path d=\"M19 3H5c-1.1 0-2 .9-2 2v14c0 1.1.9 2 2 2h14c1.1 0 2-.9 2-2V5c0-1.1-.9-2-2-2zM9 17H7v-7h2v7zm4 0h-2V7h2v10zm4 0h-2v-4h2v4z\"/>\n",
              "    </g>\n",
              "</svg>\n",
              "  </button>\n",
              "\n",
              "<style>\n",
              "  .colab-df-quickchart {\n",
              "      --bg-color: #E8F0FE;\n",
              "      --fill-color: #1967D2;\n",
              "      --hover-bg-color: #E2EBFA;\n",
              "      --hover-fill-color: #174EA6;\n",
              "      --disabled-fill-color: #AAA;\n",
              "      --disabled-bg-color: #DDD;\n",
              "  }\n",
              "\n",
              "  [theme=dark] .colab-df-quickchart {\n",
              "      --bg-color: #3B4455;\n",
              "      --fill-color: #D2E3FC;\n",
              "      --hover-bg-color: #434B5C;\n",
              "      --hover-fill-color: #FFFFFF;\n",
              "      --disabled-bg-color: #3B4455;\n",
              "      --disabled-fill-color: #666;\n",
              "  }\n",
              "\n",
              "  .colab-df-quickchart {\n",
              "    background-color: var(--bg-color);\n",
              "    border: none;\n",
              "    border-radius: 50%;\n",
              "    cursor: pointer;\n",
              "    display: none;\n",
              "    fill: var(--fill-color);\n",
              "    height: 32px;\n",
              "    padding: 0;\n",
              "    width: 32px;\n",
              "  }\n",
              "\n",
              "  .colab-df-quickchart:hover {\n",
              "    background-color: var(--hover-bg-color);\n",
              "    box-shadow: 0 1px 2px rgba(60, 64, 67, 0.3), 0 1px 3px 1px rgba(60, 64, 67, 0.15);\n",
              "    fill: var(--button-hover-fill-color);\n",
              "  }\n",
              "\n",
              "  .colab-df-quickchart-complete:disabled,\n",
              "  .colab-df-quickchart-complete:disabled:hover {\n",
              "    background-color: var(--disabled-bg-color);\n",
              "    fill: var(--disabled-fill-color);\n",
              "    box-shadow: none;\n",
              "  }\n",
              "\n",
              "  .colab-df-spinner {\n",
              "    border: 2px solid var(--fill-color);\n",
              "    border-color: transparent;\n",
              "    border-bottom-color: var(--fill-color);\n",
              "    animation:\n",
              "      spin 1s steps(1) infinite;\n",
              "  }\n",
              "\n",
              "  @keyframes spin {\n",
              "    0% {\n",
              "      border-color: transparent;\n",
              "      border-bottom-color: var(--fill-color);\n",
              "      border-left-color: var(--fill-color);\n",
              "    }\n",
              "    20% {\n",
              "      border-color: transparent;\n",
              "      border-left-color: var(--fill-color);\n",
              "      border-top-color: var(--fill-color);\n",
              "    }\n",
              "    30% {\n",
              "      border-color: transparent;\n",
              "      border-left-color: var(--fill-color);\n",
              "      border-top-color: var(--fill-color);\n",
              "      border-right-color: var(--fill-color);\n",
              "    }\n",
              "    40% {\n",
              "      border-color: transparent;\n",
              "      border-right-color: var(--fill-color);\n",
              "      border-top-color: var(--fill-color);\n",
              "    }\n",
              "    60% {\n",
              "      border-color: transparent;\n",
              "      border-right-color: var(--fill-color);\n",
              "    }\n",
              "    80% {\n",
              "      border-color: transparent;\n",
              "      border-right-color: var(--fill-color);\n",
              "      border-bottom-color: var(--fill-color);\n",
              "    }\n",
              "    90% {\n",
              "      border-color: transparent;\n",
              "      border-bottom-color: var(--fill-color);\n",
              "    }\n",
              "  }\n",
              "</style>\n",
              "\n",
              "  <script>\n",
              "    async function quickchart(key) {\n",
              "      const quickchartButtonEl =\n",
              "        document.querySelector('#' + key + ' button');\n",
              "      quickchartButtonEl.disabled = true;  // To prevent multiple clicks.\n",
              "      quickchartButtonEl.classList.add('colab-df-spinner');\n",
              "      try {\n",
              "        const charts = await google.colab.kernel.invokeFunction(\n",
              "            'suggestCharts', [key], {});\n",
              "      } catch (error) {\n",
              "        console.error('Error during call to suggestCharts:', error);\n",
              "      }\n",
              "      quickchartButtonEl.classList.remove('colab-df-spinner');\n",
              "      quickchartButtonEl.classList.add('colab-df-quickchart-complete');\n",
              "    }\n",
              "    (() => {\n",
              "      let quickchartButtonEl =\n",
              "        document.querySelector('#df-ceeebd2d-6083-4743-882e-a7bc42ec437a button');\n",
              "      quickchartButtonEl.style.display =\n",
              "        google.colab.kernel.accessAllowed ? 'block' : 'none';\n",
              "    })();\n",
              "  </script>\n",
              "</div>\n",
              "    </div>\n",
              "  </div>\n"
            ],
            "application/vnd.google.colaboratory.intrinsic+json": {
              "type": "dataframe",
              "variable_name": "df",
              "summary": "{\n  \"name\": \"df\",\n  \"rows\": 86,\n  \"fields\": [\n    {\n      \"column\": \"id\",\n      \"properties\": {\n        \"dtype\": \"string\",\n        \"num_unique_values\": 78,\n        \"samples\": [\n          \"28IOCQAAQBAJ\",\n          \"4wooDwAAQBAJ\",\n          \"SKvGDgAAQBAJ\"\n        ],\n        \"semantic_type\": \"\",\n        \"description\": \"\"\n      }\n    },\n    {\n      \"column\": \"title\",\n      \"properties\": {\n        \"dtype\": \"string\",\n        \"num_unique_values\": 78,\n        \"samples\": [\n          \"\\u042d\\u0439\\u043d\\u0448\\u0442\\u0435\\u0439\\u043d. \\u0415\\u0433\\u043e \\u0436\\u0438\\u0437\\u043d\\u044c \\u0438 \\u0435\\u0433\\u043e \\u0412\\u0441\\u0435\\u043b\\u0435\\u043d\\u043d\\u0430\\u044f\",\n          \"\\u041a\\u0430\\u043a \\u0443\\u0441\\u0442\\u0440\\u043e\\u0438\\u0442\\u044c\\u0441\\u044f \\u043d\\u0430 \\u0440\\u0430\\u0431\\u043e\\u0442\\u0443 \\u0441\\u0432\\u043e\\u0435\\u0439 \\u043c\\u0435\\u0447\\u0442\\u044b: \\u043e\\u0442 \\u0441\\u043e\\u0431\\u0435\\u0441\\u0435\\u0434\\u043e\\u0432\\u0430\\u043d\\u0438\\u044f \\u0434\\u043e \\u043b\\u0438\\u0447\\u043d\\u043e\\u0433\\u043e \\u0431\\u0440\\u0435\\u043d\\u0434\\u0430\",\n          \"Monday Starts on Saturday\"\n        ],\n        \"semantic_type\": \"\",\n        \"description\": \"\"\n      }\n    },\n    {\n      \"column\": \"authors\",\n      \"properties\": {\n        \"dtype\": \"object\",\n        \"semantic_type\": \"\",\n        \"description\": \"\"\n      }\n    },\n    {\n      \"column\": \"publisher\",\n      \"properties\": {\n        \"dtype\": \"category\",\n        \"num_unique_values\": 19,\n        \"samples\": [\n          \"\\\"\\u0418\\u0437\\u0434\\u0430\\u0442\\u0435\\u043b\\u044c\\u0441\\u043a\\u0438\\u0439 \\u0434\\u043e\\u043c \\\"\\\"\\u041f\\u0438\\u0442\\u0435\\u0440\\\"\\\"\\\"\",\n          \"Amazon Crossing\",\n          \"Strelbytskyy Multimedia Publishing\"\n        ],\n        \"semantic_type\": \"\",\n        \"description\": \"\"\n      }\n    },\n    {\n      \"column\": \"publishedDate\",\n      \"properties\": {\n        \"dtype\": \"object\",\n        \"num_unique_values\": 62,\n        \"samples\": [\n          \"2015-11-16\",\n          \"2018-05-29\",\n          \"2017-05-04\"\n        ],\n        \"semantic_type\": \"\",\n        \"description\": \"\"\n      }\n    },\n    {\n      \"column\": \"description\",\n      \"properties\": {\n        \"dtype\": \"string\",\n        \"num_unique_values\": 74,\n        \"samples\": [\n          \"\\u041a\\u043d\\u0438\\u0433\\u0430 \\u043e \\u043a\\u043e\\u0440\\u043f\\u043e\\u0440\\u0430\\u0442\\u0438\\u0432\\u043d\\u043e\\u0439 \\u043a\\u0443\\u043b\\u044c\\u0442\\u0443\\u0440\\u0435 Netflix, \\u043a\\u043e\\u0442\\u043e\\u0440\\u0430\\u044f \\u043f\\u043e\\u0441\\u0442\\u0440\\u043e\\u0435\\u043d\\u0430 \\u0432\\u043e\\u043a\\u0440\\u0443\\u0433 \\u0441\\u0432\\u043e\\u0431\\u043e\\u0434\\u044b \\u0438 \\u043e\\u0442\\u0432\\u0435\\u0442\\u0441\\u0442\\u0432\\u0435\\u043d\\u043d\\u043e\\u0441\\u0442\\u0438. \\u0418\\u043c\\u0435\\u043d\\u043d\\u043e \\u043a\\u0443\\u043b\\u044c\\u0442\\u0443\\u0440\\u0430 \\u043f\\u043e\\u0437\\u0432\\u043e\\u043b\\u0438\\u043b\\u0430 \\u043a\\u043e\\u043c\\u043f\\u0430\\u043d\\u0438\\u0438 \\u0432\\u044b\\u0440\\u0430\\u0441\\u0442\\u0438 \\u0438\\u0437 \\u043d\\u0435\\u0431\\u043e\\u043b\\u044c\\u0448\\u043e\\u0439 \\u0444\\u0438\\u0440\\u043c\\u044b \\u043f\\u043e \\u043f\\u0440\\u043e\\u043a\\u0430\\u0442\\u0443 DVD \\u0432 \\u0433\\u0438\\u0433\\u0430\\u043d\\u0442\\u0430 \\u0440\\u0430\\u0437\\u0432\\u043b\\u0435\\u043a\\u0430\\u0442\\u0435\\u043b\\u044c\\u043d\\u043e\\u0439 \\u0438\\u043d\\u0434\\u0443\\u0441\\u0442\\u0440\\u0438\\u0438.\",\n          \"\\u0421\\u043e\\u0432\\u0440\\u0435\\u043c\\u0435\\u043d\\u043d\\u043e\\u0435 \\u043e\\u0431\\u0449\\u0435\\u0441\\u0442\\u0432\\u043e \\u043f\\u0440\\u043e\\u043f\\u0430\\u0433\\u0430\\u043d\\u0434\\u0438\\u0440\\u0443\\u0435\\u0442 \\u043a\\u0443\\u043b\\u044c\\u0442 \\u0443\\u0441\\u043f\\u0435\\u0445\\u0430: \\u0431\\u0443\\u0434\\u044c \\u0443\\u043c\\u043d\\u0435\\u0435, \\u0431\\u043e\\u0433\\u0430\\u0447\\u0435, \\u043f\\u0440\\u043e\\u0434\\u0443\\u043a\\u0442\\u0438\\u0432\\u043d\\u0435\\u0435 \\u2014 \\u0431\\u0443\\u0434\\u044c \\u043b\\u0443\\u0447\\u0448\\u0435 \\u0432\\u0441\\u0435\\u0445. \\u0421\\u043e\\u0446\\u0441\\u0435\\u0442\\u0438 \\u0438\\u0437\\u043e\\u0431\\u0438\\u043b\\u0443\\u044e\\u0442 \\u0438\\u0441\\u0442\\u043e\\u0440\\u0438\\u044f\\u043c\\u0438 \\u043d\\u0430 \\u0442\\u0435\\u043c\\u0443, \\u043a\\u0430\\u043a \\u043a\\u0430\\u043a\\u043e\\u0439-\\u0442\\u043e \\u043c\\u0430\\u043b\\u0435\\u0446 \\u043f\\u0440\\u0438\\u0434\\u0443\\u043c\\u0430\\u043b \\u043f\\u0440\\u0438\\u043b\\u043e\\u0436\\u0435\\u043d\\u0438\\u0435 \\u0438 \\u0437\\u0430\\u0440\\u0430\\u0431\\u043e\\u0442\\u0430\\u043b \\u043a\\u0443\\u0447\\u0443 \\u0434\\u0435\\u043d\\u0435\\u0433, \\u0441\\u0442\\u0430\\u0442\\u044c\\u044f\\u043c\\u0438 \\u0432 \\u0434\\u0443\\u0445\\u0435 \\u00ab\\u0422\\u044b\\u0441\\u044f\\u0447\\u0430 \\u0438 \\u043e\\u0434\\u0438\\u043d \\u0441\\u043f\\u043e\\u0441\\u043e\\u0431 \\u0431\\u044b\\u0442\\u044c \\u0441\\u0447\\u0430\\u0441\\u0442\\u043b\\u0438\\u0432\\u044b\\u043c\\u00bb, \\u0430 \\u0444\\u043e\\u0442\\u043e \\u0432\\u043e \\u0444\\u0440\\u0435\\u043d\\u0434\\u043b\\u0435\\u043d\\u0442\\u0435 \\u0441\\u043e\\u0437\\u0434\\u0430\\u044e\\u0442 \\u0432\\u043f\\u0435\\u0447\\u0430\\u0442\\u043b\\u0435\\u043d\\u0438\\u0435, \\u0447\\u0442\\u043e \\u043e\\u043a\\u0440\\u0443\\u0436\\u0430\\u044e\\u0449\\u0438\\u0435 \\u0436\\u0438\\u0432\\u0443\\u0442 \\u043b\\u0443\\u0447\\u0448\\u0435 \\u0438 \\u0438\\u043d\\u0442\\u0435\\u0440\\u0435\\u0441\\u043d\\u0435\\u0435, \\u0447\\u0435\\u043c \\u043c\\u044b. \\u041e\\u0434\\u043d\\u0430\\u043a\\u043e \\u043d\\u0430\\u0448\\u0430 \\u0437\\u0430\\u0446\\u0438\\u043a\\u043b\\u0435\\u043d\\u043d\\u043e\\u0441\\u0442\\u044c \\u043d\\u0430 \\u043f\\u043e\\u0437\\u0438\\u0442\\u0438\\u0432\\u0435 \\u0438 \\u0443\\u0441\\u043f\\u0435\\u0445\\u0435 \\u043b\\u0438\\u0448\\u044c \\u043d\\u0430\\u043f\\u043e\\u043c\\u0438\\u043d\\u0430\\u0435\\u0442 \\u043e \\u0442\\u043e\\u043c, \\u0447\\u0435\\u0433\\u043e \\u043c\\u044b \\u043d\\u0435 \\u0434\\u043e\\u0441\\u0442\\u0438\\u0433\\u043b\\u0438, \\u043e \\u043c\\u0435\\u0447\\u0442\\u0430\\u0445, \\u043a\\u043e\\u0442\\u043e\\u0440\\u044b\\u0435 \\u043d\\u0435 \\u0441\\u0431\\u044b\\u043b\\u0438\\u0441\\u044c. \\u041a\\u0430\\u043a \\u0436\\u0435 \\u0441\\u0442\\u0430\\u0442\\u044c \\u043f\\u043e-\\u043d\\u0430\\u0441\\u0442\\u043e\\u044f\\u0449\\u0435\\u043c\\u0443 \\u0441\\u0447\\u0430\\u0441\\u0442\\u043b\\u0438\\u0432\\u044b\\u043c? \\u041f\\u043e\\u043f\\u0443\\u043b\\u044f\\u0440\\u043d\\u044b\\u0439 \\u0431\\u043b\\u043e\\u0433\\u0435\\u0440 \\u041c\\u0430\\u0440\\u043a \\u041c\\u044d\\u043d\\u0441\\u043e\\u043d \\u0432 \\u043a\\u043d\\u0438\\u0433\\u0435 \\u00ab\\u0422\\u043e\\u043d\\u043a\\u043e\\u0435 \\u0438\\u0441\\u043a\\u0443\\u0441\\u0441\\u0442\\u0432\\u043e \\u043f\\u043e\\u0444\\u0438\\u0433\\u0438\\u0437\\u043c\\u0430\\u00bb \\u043f\\u0440\\u0435\\u0434\\u043b\\u0430\\u0433\\u0430\\u0435\\u0442 \\u0441\\u0432\\u043e\\u0439, \\u043e\\u0440\\u0438\\u0433\\u0438\\u043d\\u0430\\u043b\\u044c\\u043d\\u044b\\u0439 \\u043f\\u043e\\u0434\\u0445\\u043e\\u0434 \\u043a \\u044d\\u0442\\u043e\\u043c\\u0443 \\u0432\\u043e\\u043f\\u0440\\u043e\\u0441\\u0443. \\u0415\\u0433\\u043e \\u0436\\u0438\\u0437\\u043d\\u0435\\u043d\\u043d\\u0430\\u044f \\u0444\\u0438\\u043b\\u043e\\u0441\\u043e\\u0444\\u0438\\u044f \\u043f\\u0440\\u043e\\u0441\\u0442\\u0430 \\u2014 \\u043d\\u0435\\u043e\\u0431\\u0445\\u043e\\u0434\\u0438\\u043c\\u043e \\u043d\\u0430\\u0443\\u0447\\u0438\\u0442\\u044c\\u0441\\u044f \\u0438\\u0441\\u043a\\u0443\\u0441\\u0441\\u0442\\u0432\\u0443 \\u043f\\u043e\\u0444\\u0438\\u0433\\u0438\\u0437\\u043c\\u0430. \\u041e\\u043f\\u0440\\u0435\\u0434\\u0435\\u043b\\u0438\\u0432 \\u0442\\u043e, \\u0434\\u043e \\u0447\\u0435\\u0433\\u043e \\u0432\\u0430\\u043c \\u0434\\u0435\\u0439\\u0441\\u0442\\u0432\\u0438\\u0442\\u0435\\u043b\\u044c\\u043d\\u043e \\u0435\\u0441\\u0442\\u044c \\u0434\\u0435\\u043b\\u043e, \\u043d\\u0443\\u0436\\u043d\\u043e \\u0443\\u043c\\u0435\\u0442\\u044c \\u043d\\u0430\\u043f\\u043b\\u0435\\u0432\\u0430\\u0442\\u044c \\u043d\\u0430 \\u0432\\u0441\\u0435 \\u0432\\u0442\\u043e\\u0440\\u043e\\u0441\\u0442\\u0435\\u043f\\u0435\\u043d\\u043d\\u043e\\u0435, \\u0437\\u0430\\u0431\\u0438\\u0442\\u044c \\u043d\\u0430 \\u0442\\u0440\\u0443\\u0434\\u043d\\u043e\\u0441\\u0442\\u0438, \\u043f\\u043e\\u0441\\u043b\\u0430\\u0442\\u044c \\u043a \\u0447\\u0435\\u0440\\u0442\\u0443 \\u0447\\u0443\\u0436\\u043e\\u0435 \\u043c\\u043d\\u0435\\u043d\\u0438\\u0435 \\u0438 \\u0431\\u044b\\u0442\\u044c \\u0433\\u043e\\u0442\\u043e\\u0432\\u044b\\u043c \\u0432\\u0437\\u0433\\u043b\\u044f\\u043d\\u0443\\u0442\\u044c \\u0432 \\u043b\\u0438\\u0446\\u043e \\u043d\\u0435\\u0443\\u0434\\u0430\\u0447\\u0430\\u043c \\u0438 \\u043f\\u043e\\u043a\\u0430\\u0437\\u0430\\u0442\\u044c \\u0438\\u043c \\u0441\\u0440\\u0435\\u0434\\u043d\\u0438\\u0439 \\u043f\\u0430\\u043b\\u0435\\u0446.\",\n          \"\\u0421\\u0442\\u0438\\u0432 \\u0411\\u043b\\u0430\\u043d\\u043a, \\u0433\\u0443\\u0440\\u0443 \\u0441\\u0442\\u0430\\u0440\\u0442\\u0430\\u043f-\\u0434\\u0432\\u0438\\u0436\\u0435\\u043d\\u0438\\u044f, \\u0433\\u043e\\u0432\\u043e\\u0440\\u0438\\u0442, \\u0447\\u0442\\u043e \\u0433\\u043b\\u0430\\u0432\\u043d\\u043e\\u0435 \\u0434\\u043b\\u044f \\u043d\\u0430\\u0447\\u0438\\u043d\\u0430\\u044e\\u0449\\u0435\\u0433\\u043e \\u043f\\u0440\\u0435\\u0434\\u043f\\u0440\\u0438\\u043d\\u0438\\u043c\\u0430\\u0442\\u0435\\u043b\\u044f \\u2014 \\u044d\\u0442\\u043e \\u00ab\\u0432\\u044b\\u0439\\u0442\\u0438 \\u0438\\u0437 \\u043e\\u0444\\u0438\\u0441\\u0430\\u00bb, \\u0442\\u043e \\u0435\\u0441\\u0442\\u044c \\u043d\\u0430\\u0447\\u0430\\u0442\\u044c \\u043d\\u0430\\u043f\\u0440\\u044f\\u043c\\u0443\\u044e \\u0443\\u0437\\u043d\\u0430\\u0432\\u0430\\u0442\\u044c \\u0443 \\u043a\\u043b\\u0438\\u0435\\u043d\\u0442\\u043e\\u0432, \\u0447\\u0442\\u043e \\u0438\\u043c \\u043d\\u0443\\u0436\\u043d\\u043e. \\u041e\\u0434\\u043d\\u0430\\u043a\\u043e \\u043f\\u043e\\u043b\\u0443\\u0447\\u0438\\u0442\\u0435 \\u043b\\u0438 \\u0432\\u044b \\u0434\\u0435\\u0439\\u0441\\u0442\\u0432\\u0438\\u0442\\u0435\\u043b\\u044c\\u043d\\u043e \\u0432\\u0430\\u0436\\u043d\\u0443\\u044e \\u0438\\u043d\\u0444\\u043e\\u0440\\u043c\\u0430\\u0446\\u0438\\u044e, \\u0437\\u0430\\u0432\\u0438\\u0441\\u0438\\u0442 \\u043e\\u0442 \\u0442\\u043e\\u0433\\u043e, \\u043a\\u0430\\u043a\\u0438\\u0435 \\u0432\\u043e\\u043f\\u0440\\u043e\\u0441\\u044b \\u0432\\u044b \\u0431\\u0443\\u0434\\u0435\\u0442\\u0435 \\u0437\\u0430\\u0434\\u0430\\u0432\\u0430\\u0442\\u044c. \\u041a\\u0441\\u0442\\u0430\\u0442\\u0438, \\u0441\\u0430\\u043c\\u044b\\u0439 \\u043f\\u043e\\u043f\\u0443\\u043b\\u044f\\u0440\\u043d\\u044b\\u0439 \\u0432\\u043e\\u043f\\u0440\\u043e\\u0441 \\u2014 \\u00ab\\u041d\\u0440\\u0430\\u0432\\u0438\\u0442\\u0441\\u044f \\u043b\\u0438 \\u0432\\u0430\\u043c \\u043d\\u0430\\u0448\\u0430 \\u0438\\u0434\\u0435\\u044f \\u0438\\u043b\\u0438 \\u043f\\u0440\\u043e\\u0434\\u0443\\u043a\\u0442?\\u00bb \\u2014 \\u043d\\u0435\\u0432\\u0435\\u0440\\u0435\\u043d. \\u042d\\u0442\\u043e \\u0432\\u0441\\u0435 \\u0440\\u0430\\u0432\\u043d\\u043e, \\u0447\\u0442\\u043e \\u0441\\u043f\\u0440\\u0430\\u0448\\u0438\\u0432\\u0430\\u0442\\u044c \\u043c\\u0430\\u043c\\u0443, \\u043f\\u043e \\u0434\\u0443\\u0448\\u0435 \\u043b\\u0438 \\u0435\\u0439 \\u0432\\u0430\\u0448\\u0430 \\u0438\\u0434\\u0435\\u044f: \\u043e\\u043d\\u0430 \\u043b\\u044e\\u0431\\u0438\\u0442 \\u0432\\u0430\\u0441 \\u0438 \\u0432 \\u043b\\u044e\\u0431\\u043e\\u043c \\u0441\\u043b\\u0443\\u0447\\u0430\\u0435 \\u043f\\u043e\\u0445\\u0432\\u0430\\u043b\\u0438\\u0442, \\u043d\\u0435 \\u0436\\u0435\\u043b\\u0430\\u044f \\u0440\\u0430\\u0441\\u0441\\u0442\\u0440\\u0430\\u0438\\u0432\\u0430\\u0442\\u044c. \\u0422\\u0430\\u043a \\u0436\\u0435 \\u043f\\u043e\\u0441\\u0442\\u0443\\u043f\\u0430\\u044e\\u0442 \\u0438 99% \\u043a\\u043b\\u0438\\u0435\\u043d\\u0442\\u043e\\u0432. \\u0412 \\u043e\\u0431\\u0449\\u0435\\u043c, \\u0447\\u0442\\u043e\\u0431\\u044b \\u0431\\u044b\\u0442\\u044c \\u0443\\u0441\\u043f\\u0435\\u0448\\u043d\\u044b\\u043c \\u043f\\u0440\\u0435\\u0434\\u043f\\u0440\\u0438\\u043d\\u0438\\u043c\\u0430\\u0442\\u0435\\u043b\\u0435\\u043c, \\u043d\\u0430\\u0434\\u043e \\u0437\\u043d\\u0430\\u0442\\u044c, \\u043a\\u0430\\u043a \\u0438 \\u0447\\u0442\\u043e \\u0438\\u043c\\u0435\\u043d\\u043d\\u043e \\u0441\\u043f\\u0440\\u0430\\u0448\\u0438\\u0432\\u0430\\u0442\\u044c, \\u0438 \\u043f\\u043e \\u043a\\u043d\\u0438\\u0433\\u0435 \\u0420\\u043e\\u0431\\u0430 \\u0424\\u0438\\u0442\\u0446\\u043f\\u0430\\u0442\\u0440\\u0438\\u043a\\u0430 \\u0432\\u044b \\u043d\\u0430\\u0443\\u0447\\u0438\\u0442\\u0435\\u0441\\u044c \\u044d\\u0442\\u043e \\u0434\\u0435\\u043b\\u0430\\u0442\\u044c! \\u0410\\u0432\\u0442\\u043e\\u0440 \\u043f\\u043e\\u043c\\u043e\\u0436\\u0435\\u0442 \\u0432\\u0430\\u043c \\u043f\\u043e\\u043d\\u044f\\u0442\\u044c, \\u043a\\u043e\\u0433\\u0434\\u0430 \\u043e\\u0442\\u0432\\u0435\\u0442 \\u0434\\u0430\\u0435\\u0442\\u0441\\u044f \\u0438\\u0437 \\u0432\\u0435\\u0436\\u043b\\u0438\\u0432\\u043e\\u0441\\u0442\\u0438 \\u0438 \\u043d\\u0435 \\u043d\\u0435\\u0441\\u0435\\u0442 \\u043d\\u0438\\u043a\\u0430\\u043a\\u043e\\u0439 \\u0446\\u0435\\u043d\\u043d\\u043e\\u0441\\u0442\\u0438, \\u043f\\u043e\\u0434\\u0441\\u043a\\u0430\\u0436\\u0435\\u0442, \\u0432 \\u043a\\u0430\\u043a\\u043e\\u043c \\u043d\\u0430\\u043f\\u0440\\u0430\\u0432\\u043b\\u0435\\u043d\\u0438\\u0438 \\u0441\\u043b\\u0435\\u0434\\u0443\\u0435\\u0442 \\u0440\\u0430\\u0437\\u0432\\u0438\\u0432\\u0430\\u0442\\u044c \\u0431\\u0435\\u0441\\u0435\\u0434\\u0443, \\u043a\\u0430\\u043a\\u0438\\u0435 \\u0443\\u0442\\u043e\\u0447\\u043d\\u044f\\u044e\\u0449\\u0438\\u0435 \\u0432\\u043e\\u043f\\u0440\\u043e\\u0441\\u044b \\u0437\\u0430\\u0434\\u0430\\u0432\\u0430\\u0442\\u044c, \\u043a\\u0430\\u043a \\u0438\\u0437\\u0431\\u0435\\u0433\\u0430\\u0442\\u044c \\u0441\\u043e\\u0446\\u0438\\u0430\\u043b\\u044c\\u043d\\u043e \\u0436\\u0435\\u043b\\u0430\\u0435\\u043c\\u044b\\u0445 \\u043e\\u0442\\u0432\\u0435\\u0442\\u043e\\u0432, \\u043a\\u0430\\u043a \\u043f\\u043e\\u043d\\u044f\\u0442\\u044c, \\u0447\\u0442\\u043e \\u0432 \\u043f\\u0440\\u043e\\u0434\\u0443\\u043a\\u0442\\u0435 \\u0445\\u043e\\u0440\\u043e\\u0448\\u043e \\u0438\\u043b\\u0438 \\u043f\\u043b\\u043e\\u0445\\u043e, \\u043d\\u0443\\u0436\\u0435\\u043d \\u043b\\u0438 \\u043e\\u043d \\u0440\\u044b\\u043d\\u043a\\u0443, \\u043a\\u0430\\u043a \\u0435\\u0433\\u043e \\u043f\\u0440\\u0430\\u0432\\u0438\\u043b\\u044c\\u043d\\u043e \\u043f\\u043e\\u0437\\u0438\\u0446\\u0438\\u043e\\u043d\\u0438\\u0440\\u043e\\u0432\\u0430\\u0442\\u044c \\u2014 \\u0438 \\u0432\\u0441\\u0435 \\u044d\\u0442\\u043e \\u0441\\u043e \\u043c\\u043d\\u043e\\u0436\\u0435\\u0441\\u0442\\u0432\\u043e\\u043c \\u0440\\u0435\\u0430\\u043b\\u044c\\u043d\\u044b\\u0445 \\u043f\\u0440\\u0438\\u043c\\u0435\\u0440\\u043e\\u0432. \\u041f\\u0435\\u0440\\u0435\\u0434 \\u0432\\u0430\\u043c\\u0438 \\u043a\\u0440\\u0430\\u0442\\u043a\\u043e\\u0435, \\u043f\\u043e\\u043b\\u0435\\u0437\\u043d\\u043e\\u0435 \\u0438 \\u043d\\u0430\\u043f\\u0438\\u0441\\u0430\\u043d\\u043d\\u043e\\u0435 \\u0441 \\u0445\\u043e\\u0440\\u043e\\u0448\\u0438\\u043c \\u044e\\u043c\\u043e\\u0440\\u043e\\u043c \\u043f\\u0440\\u0430\\u043a\\u0442\\u0438\\u0447\\u0435\\u0441\\u043a\\u043e\\u0435 \\u0440\\u0443\\u043a\\u043e\\u0432\\u043e\\u0434\\u0441\\u0442\\u0432\\u043e \\u043f\\u043e \\u044d\\u0444\\u0444\\u0435\\u043a\\u0442\\u0438\\u0432\\u043d\\u043e\\u043c\\u0443 \\u043e\\u0431\\u0449\\u0435\\u043d\\u0438\\u044e \\u043f\\u0440\\u0435\\u0434\\u043f\\u0440\\u0438\\u043d\\u0438\\u043c\\u0430\\u0442\\u0435\\u043b\\u044f \\u0441 \\u043a\\u043b\\u0438\\u0435\\u043d\\u0442\\u0430\\u043c\\u0438. \\u041e\\u043d\\u043e \\u043f\\u043e\\u043c\\u043e\\u0436\\u0435\\u0442 \\u0432\\u0430\\u043c \\u0441\\u044d\\u043a\\u043e\\u043d\\u043e\\u043c\\u0438\\u0442\\u044c \\u0432\\u0440\\u0435\\u043c\\u044f, \\u0434\\u0435\\u043d\\u044c\\u0433\\u0438 \\u0438 \\u043d\\u0435\\u0440\\u0432\\u044b.\"\n        ],\n        \"semantic_type\": \"\",\n        \"description\": \"\"\n      }\n    },\n    {\n      \"column\": \"pageCount\",\n      \"properties\": {\n        \"dtype\": \"number\",\n        \"std\": 333.3949438355926,\n        \"min\": 0.0,\n        \"max\": 2060.0,\n        \"num_unique_values\": 66,\n        \"samples\": [\n          338.0,\n          308.0,\n          160.0\n        ],\n        \"semantic_type\": \"\",\n        \"description\": \"\"\n      }\n    },\n    {\n      \"column\": \"imageLinks\",\n      \"properties\": {\n        \"dtype\": \"object\",\n        \"semantic_type\": \"\",\n        \"description\": \"\"\n      }\n    },\n    {\n      \"column\": \"language\",\n      \"properties\": {\n        \"dtype\": \"category\",\n        \"num_unique_values\": 2,\n        \"samples\": [\n          \"en\",\n          \"ru\"\n        ],\n        \"semantic_type\": \"\",\n        \"description\": \"\"\n      }\n    }\n  ]\n}"
            }
          },
          "metadata": {},
          "execution_count": 338
        }
      ]
    },
    {
      "cell_type": "markdown",
      "source": [
        "## На каом языке я больше читаю?"
      ],
      "metadata": {
        "id": "_bVQoJcPjIAX"
      }
    },
    {
      "cell_type": "code",
      "source": [
        "from matplotlib import pyplot as plt\n",
        "import seaborn as sns\n",
        "df.groupby('language').size().plot(kind='barh', color=sns.palettes.mpl_palette('Dark2'))\n",
        "plt.gca().spines[['top', 'right',]].set_visible(False)"
      ],
      "metadata": {
        "colab": {
          "base_uri": "https://localhost:8080/",
          "height": 430
        },
        "id": "6iCTuGY8jBF6",
        "outputId": "561448a0-5bfc-4b19-cc7f-3f250458d436"
      },
      "execution_count": 341,
      "outputs": [
        {
          "output_type": "display_data",
          "data": {
            "text/plain": [
              "<Figure size 640x480 with 1 Axes>"
            ],
            "image/png": "[encoded data removed]"
          },
          "metadata": {}
        }
      ]
    },
    {
      "cell_type": "markdown",
      "source": [
        "## Сколько страниц в прочитанных мной книгах?"
      ],
      "metadata": {
        "id": "TleqMzKVjcWE"
      }
    },
    {
      "cell_type": "code",
      "source": [
        "from matplotlib import pyplot as plt\n",
        "df['pageCount'].plot(kind='hist', bins=20, title='Сколько страниц в моих книгах?')\n",
        "plt.gca().spines[['top', 'right',]].set_visible(False)"
      ],
      "metadata": {
        "colab": {
          "base_uri": "https://localhost:8080/",
          "height": 452
        },
        "id": "X2Ei4HO4jbrB",
        "outputId": "af2bf263-39dd-43b3-8323-8f8c5f3bc850"
      },
      "execution_count": 344,
      "outputs": [
        {
          "output_type": "display_data",
          "data": {
            "text/plain": [
              "<Figure size 640x480 with 1 Axes>"
            ],
            "image/png": "[encoded data removed]"
          },
          "metadata": {}
        }
      ]
    },
    {
      "cell_type": "markdown",
      "source": [
        "## Сохраню датафрейм на диске, чтобы не транжирить запросы к API"
      ],
      "metadata": {
        "id": "N8MUQCipj6r-"
      }
    },
    {
      "cell_type": "code",
      "source": [
        "df.to_csv('/content/drive/MyDrive/Colab Notebooks/book_analyze/my_books.csv')"
      ],
      "metadata": {
        "id": "WRePEWI7kCv3"
      },
      "execution_count": 343,
      "outputs": []
    }
  ]
}